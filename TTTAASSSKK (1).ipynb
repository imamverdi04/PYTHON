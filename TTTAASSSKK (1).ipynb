{
 "cells": [
  {
   "cell_type": "markdown",
   "metadata": {
    "id": "t0LHIhxSJLoq"
   },
   "source": [
    "1) Get the keys from the dictionaries named *sample_dic* as a list\n",
    "```\n",
    "sample_dict = {\n",
    "    'Physics': 82,\n",
    "    'Math': 65,\n",
    "    'history': 75\n",
    "}\n",
    "```\n",
    "\n"
   ]
  },
  {
   "cell_type": "code",
   "execution_count": 2,
   "metadata": {},
   "outputs": [
    {
     "name": "stdout",
     "output_type": "stream",
     "text": [
      "['Physics', 'Math', 'history']\n"
     ]
    }
   ],
   "source": [
    "sample_dict = {\n",
    "    'Physics': 82,\n",
    "    'Math': 65,\n",
    "    'history': 75\n",
    "}\n",
    "\n",
    "keys_list = list(sample_dict.keys())\n",
    "print(keys_list)"
   ]
  },
  {
   "cell_type": "markdown",
   "metadata": {
    "id": "w5sNggvfKBPs"
   },
   "source": [
    "2) Get sum of all the values in a dict\n",
    "\n",
    "```\n",
    "#Input:\n",
    "sample_dict = {\n",
    "    'Physics': 82,\n",
    "    'Math': 65,\n",
    "    'history': 75,\n",
    "    'chemistry': 89,\n",
    "    'GK': 50\n",
    "    \n",
    "}\n",
    "\n",
    "#Expected Output: 361\n",
    "\n",
    "```"
   ]
  },
  {
   "cell_type": "code",
   "execution_count": 3,
   "metadata": {},
   "outputs": [
    {
     "name": "stdout",
     "output_type": "stream",
     "text": [
      "361\n"
     ]
    }
   ],
   "source": [
    "sample_dict = {\n",
    "    'Physics': 82,\n",
    "    'Math': 65,\n",
    "    'history': 75,\n",
    "    'chemistry': 89,\n",
    "    'GK': 50\n",
    "}\n",
    "\n",
    "total_sum = sum(sample_dict.values())\n",
    "print(total_sum)"
   ]
  },
  {
   "cell_type": "markdown",
   "metadata": {
    "id": "hXoPfj4-JXko"
   },
   "source": [
    "3)Get the key of a minimum value from the following dictionary\n",
    "\n",
    "```\n",
    "#Input:\n",
    "sample_dict = {\n",
    "  'Physics': 82,\n",
    "  'Math': 65,\n",
    "  'history': 75\n",
    "}\n",
    "\n",
    "#Expected Output: Math\n",
    "\n",
    "```"
   ]
  },
  {
   "cell_type": "code",
   "execution_count": 1,
   "metadata": {},
   "outputs": [
    {
     "name": "stdout",
     "output_type": "stream",
     "text": [
      "Math\n"
     ]
    }
   ],
   "source": [
    "sample_dict = {\n",
    "  'Physics': 82,\n",
    "  'Math': 65,\n",
    "  'history': 75\n",
    "}\n",
    "\n",
    "min_key = min(sample_dict, key=sample_dict.get)\n",
    "print(min_key)"
   ]
  },
  {
   "cell_type": "markdown",
   "metadata": {
    "id": "CTSGF0hmJgDD"
   },
   "source": [
    "4) Delete a list of keys from a dictionary\n",
    "```\n",
    "#Inputs:\n",
    "sample_dict = {\n",
    "    \"name\": \"Khalid\",\n",
    "    \"age\": 23,\n",
    "    \"salary\": 1000,\n",
    "    \"city\": \"Baku\"\n",
    "}\n",
    "\n",
    "# Keys to remove\n",
    "keys = [\"name\", \"salary\"]\n",
    "\n",
    "# Expected Output: {'city': 'Baku', 'age': 23}\n",
    "```"
   ]
  },
  {
   "cell_type": "code",
   "execution_count": 4,
   "metadata": {},
   "outputs": [
    {
     "name": "stdout",
     "output_type": "stream",
     "text": [
      "{'age': 23, 'city': 'Baku'}\n"
     ]
    }
   ],
   "source": [
    "sample_dict = {\n",
    "    \"name\": \"Khalid\",\n",
    "    \"age\": 23,\n",
    "    \"salary\": 1000,\n",
    "    \"city\": \"Baku\"\n",
    "}\n",
    "\n",
    "# Keys to remove\n",
    "keys_to_remove = [\"name\", \"salary\"]\n",
    "\n",
    "# Using a for loop to delete the keys\n",
    "for key in keys_to_remove:\n",
    "    if key in sample_dict:\n",
    "        del sample_dict[key]\n",
    "\n",
    "print(sample_dict)  "
   ]
  },
  {
   "cell_type": "markdown",
   "metadata": {
    "id": "keTauTOfJ0RA"
   },
   "source": [
    "5) Create a dictionary by extracting the keys from a given dictionary\n",
    "\n",
    "```\n",
    "# Inputs:\n",
    "sample_dict = {\n",
    "    \"name\": \"Khalid\",\n",
    "    \"age\": 23,\n",
    "    \"salary\": 1000,\n",
    "    \"city\": \"Baku\"}\n",
    "\n",
    "# Keys to extract\n",
    "keys = [\"name\", \"salary\"]\n",
    "\n",
    "# Expected Output: {'name': 'Khalid', 'salary': 1000}\n",
    "```"
   ]
  },
  {
   "cell_type": "code",
   "execution_count": 5,
   "metadata": {},
   "outputs": [
    {
     "name": "stdout",
     "output_type": "stream",
     "text": [
      "{'name': 'Khalid', 'salary': 1000}\n"
     ]
    }
   ],
   "source": [
    "sample_dict = {\n",
    "    \"name\": \"Khalid\",\n",
    "    \"age\": 23,\n",
    "    \"salary\": 1000,\n",
    "    \"city\": \"Baku\"\n",
    "}\n",
    "\n",
    "# Keys to extract\n",
    "keys_to_extract = [\"name\", \"salary\"]\n",
    "\n",
    "# Using dictionary comprehension \n",
    "extracted_dict = {key: sample_dict[key] for key in keys_to_extract if key in sample_dict}\n",
    "\n",
    "print(extracted_dict)  "
   ]
  },
  {
   "cell_type": "markdown",
   "metadata": {
    "id": "KW4qi0i5KNQd"
   },
   "source": [
    "6) Take 10 integers from keyboard using loop and print their average value\n",
    "on the screen."
   ]
  },
  {
   "cell_type": "code",
   "execution_count": 6,
   "metadata": {},
   "outputs": [
    {
     "name": "stdout",
     "output_type": "stream",
     "text": [
      "Enter an integer: 3\n",
      "Enter an integer: 2\n",
      "Enter an integer: 3\n",
      "Enter an integer: 9\n",
      "Enter an integer: 7\n",
      "Enter an integer: 3\n",
      "Enter an integer: 3\n",
      "Enter an integer: 3\n",
      "Enter an integer: 3\n",
      "Enter an integer: 3\n",
      "Average: 3.9\n"
     ]
    }
   ],
   "source": [
    "total = 0\n",
    "\n",
    "# Prompt the user to enter 10 integers\n",
    "for x in range(10):\n",
    "    num = int(input(\"Enter an integer: \"))\n",
    "    total += num  # Add the entered number to the total\n",
    "\n",
    "# Calculate the average\n",
    "average = total / 10\n",
    "\n",
    "# Print the average\n",
    "print(\"Average:\", average)"
   ]
  },
  {
   "cell_type": "markdown",
   "metadata": {
    "id": "yTkI4J3aKOrs"
   },
   "source": [
    "7) Print multiplication table of 24 using loop."
   ]
  },
  {
   "cell_type": "code",
   "execution_count": 7,
   "metadata": {},
   "outputs": [
    {
     "name": "stdout",
     "output_type": "stream",
     "text": [
      "Multiplication Table of 24\n",
      "24 x 1 = 24\n",
      "24 x 2 = 48\n",
      "24 x 3 = 72\n",
      "24 x 4 = 96\n",
      "24 x 5 = 120\n",
      "24 x 6 = 144\n",
      "24 x 7 = 168\n",
      "24 x 8 = 192\n",
      "24 x 9 = 216\n",
      "24 x 10 = 240\n"
     ]
    }
   ],
   "source": [
    "# Define the number for which you want to print the multiplication table\n",
    "number = 24\n",
    "\n",
    "# Print the multiplication table\n",
    "print(\"Multiplication Table of\", number)\n",
    "for i in range(1, 11):\n",
    "    print(number, \"x\", i, \"=\", number * i)"
   ]
  },
  {
   "cell_type": "markdown",
   "metadata": {
    "id": "PpkgIjOEKUU0"
   },
   "source": [
    "8) Factorial of any number n is represented by n! and is equal to 1*2*3*....*(n-1)*n.\n",
    "\n",
    "Write a program to calculate factorial of a number.\n",
    "\n",
    "```\n",
    "4! = 1*2*3*4 = 24\n",
    "3! = 3*2*1 = 6\n",
    "2! = 2*1 = 2\n",
    "\n",
    "Also,\n",
    "1! = 1\n",
    "0! = 1\n",
    "```\n"
   ]
  },
  {
   "cell_type": "code",
   "execution_count": 9,
   "metadata": {},
   "outputs": [
    {
     "name": "stdout",
     "output_type": "stream",
     "text": [
      "Enter a number: 4\n",
      "The factorial of 4 is: 24\n"
     ]
    }
   ],
   "source": [
    "n = int(input(\"Enter a number: \"))  \n",
    "\n",
    "factorial = 1  \n",
    "\n",
    "for i in range(1, n + 1):\n",
    "    factorial *= i\n",
    "\n",
    "print(f\"The factorial of {n} is:\", factorial)"
   ]
  },
  {
   "cell_type": "markdown",
   "metadata": {
    "id": "1V-KIxBHKjiU"
   },
   "source": [
    "9) Write a program that calculates the sum of the digits of a given number. Ask the user to input a number"
   ]
  },
  {
   "cell_type": "code",
   "execution_count": 10,
   "metadata": {},
   "outputs": [
    {
     "name": "stdout",
     "output_type": "stream",
     "text": [
      "Enter a number: 123\n",
      "Sum of digits: 6\n"
     ]
    }
   ],
   "source": [
    "# Take input from the user\n",
    "number = input(\"Enter a number: \")\n",
    "\n",
    "# Initialize sum to 0\n",
    "sum_of_digits = 0\n",
    "\n",
    "# Iterate through each digit in the number\n",
    "for digit in number:\n",
    "    # Convert the digit from string to integer and add it to the sum\n",
    "    sum_of_digits += int(digit)\n",
    "\n",
    "# Print the sum of digits\n",
    "print(\"Sum of digits:\", sum_of_digits)"
   ]
  },
  {
   "cell_type": "markdown",
   "metadata": {
    "id": "cLIPyMzuLLUU"
   },
   "source": [
    "10) Write a Python program that takes a string input from the user and counts the number of characters in the string."
   ]
  },
  {
   "cell_type": "code",
   "execution_count": 11,
   "metadata": {
    "id": "pmqLrrVLJLGs"
   },
   "outputs": [
    {
     "name": "stdout",
     "output_type": "stream",
     "text": [
      "Enter a string: numpy1\n",
      "Number of characters in the string: 6\n"
     ]
    }
   ],
   "source": [
    "# Take input from the user\n",
    "string_input = input(\"Enter a string: \")\n",
    "\n",
    "# Count the number of characters in the string\n",
    "num_characters = len(string_input)\n",
    "\n",
    "# Print the result\n",
    "print(\"Number of characters in the string:\", num_characters)"
   ]
  },
  {
   "cell_type": "markdown",
   "metadata": {},
   "source": [
    "# "
   ]
  }
 ],
 "metadata": {
  "colab": {
   "provenance": []
  },
  "kernelspec": {
   "display_name": "Python 3 (ipykernel)",
   "language": "python",
   "name": "python3"
  },
  "language_info": {
   "codemirror_mode": {
    "name": "ipython",
    "version": 3
   },
   "file_extension": ".py",
   "mimetype": "text/x-python",
   "name": "python",
   "nbconvert_exporter": "python",
   "pygments_lexer": "ipython3",
   "version": "3.11.5"
  }
 },
 "nbformat": 4,
 "nbformat_minor": 1
}
